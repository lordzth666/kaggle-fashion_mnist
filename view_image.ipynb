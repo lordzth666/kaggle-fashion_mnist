{
 "cells": [
  {
   "cell_type": "code",
   "execution_count": 1,
   "metadata": {},
   "outputs": [
    {
     "name": "stderr",
     "output_type": "stream",
     "text": [
      "Using TensorFlow backend.\n"
     ]
    }
   ],
   "source": [
    "import numpy as np\n",
    "import matplotlib.pyplot as plt\n",
    "import cv2\n",
    "from PIL import Image, ImageEnhance\n",
    "import keras"
   ]
  },
  {
   "cell_type": "code",
   "execution_count": 2,
   "metadata": {},
   "outputs": [],
   "source": [
    "train_label_name = './dataset/train_labels.npy'\n",
    "train_img_name = './dataset/train_images.npy'\n",
    "test_img_name = './dataset/test_images.npy'\n",
    "\n",
    "X = np.load(train_img_name)\n",
    "y = np.load(train_label_name)\n",
    "\n",
    "X_test = np.load(test_img_name)\n",
    "\n",
    "num_test = np.shape(X_test)[0]\n",
    "\n",
    "plot_rows = 8\n",
    "plot_cols = 8\n",
    "\n",
    "def seed_images(X, seed_num=32):\n",
    "    n = np.shape(X)[0]\n",
    "    indices = np.random.choice(n, seed_num)\n",
    "    fig = plt.figure(figsize=(28, 28))\n",
    "    for i in range(seed_num):\n",
    "        fig.add_subplot(plot_rows, plot_cols, i+1)\n",
    "        img = np.reshape(X[indices[i]], (28, 28))\n",
    "        plt.imshow(img)\n",
    "        \n",
    "def plot_images(X):\n",
    "    n = np.shape(X)[0]\n",
    "    fig = plt.figure(figsize=(28, 28))\n",
    "    for i in range(n):\n",
    "        fig.add_subplot(plot_rows, plot_cols, i+1)\n",
    "        img = np.reshape(X[i], (28, 28))\n",
    "        plt.imshow(img)"
   ]
  },
  {
   "cell_type": "code",
   "execution_count": 17,
   "metadata": {},
   "outputs": [
    {
     "name": "stdout",
     "output_type": "stream",
     "text": [
      "[5543 5444 5496 5499 5512 5507 5507 5488 5510 5494]\n"
     ]
    },
    {
     "data": {
      "text/plain": [
       "([<matplotlib.axis.YTick at 0xb5127df28>,\n",
       "  <matplotlib.axis.YTick at 0xb5127d860>,\n",
       "  <matplotlib.axis.YTick at 0xb5127a860>,\n",
       "  <matplotlib.axis.YTick at 0xb50ed74e0>,\n",
       "  <matplotlib.axis.YTick at 0xb50ed79b0>,\n",
       "  <matplotlib.axis.YTick at 0xb50ed7e80>,\n",
       "  <matplotlib.axis.YTick at 0xb50ed7978>,\n",
       "  <matplotlib.axis.YTick at 0xb50d08c18>,\n",
       "  <matplotlib.axis.YTick at 0xb50cf4fd0>,\n",
       "  <matplotlib.axis.YTick at 0xb50ee4780>,\n",
       "  <matplotlib.axis.YTick at 0xb50ee4c50>],\n",
       " <a list of 11 Text yticklabel objects>)"
      ]
     },
     "execution_count": 17,
     "metadata": {},
     "output_type": "execute_result"
    },
    {
     "data": {
      "image/png": "[encoded data removed]",
      "text/plain": [
       "<Figure size 432x288 with 1 Axes>"
      ]
     },
     "metadata": {
      "needs_background": "light"
     },
     "output_type": "display_data"
    }
   ],
   "source": [
    "y1, _ = np.histogram(y)\n",
    "print(y1)\n",
    "plt.figure()\n",
    "plt.bar(np.arange(10), y1, width=0.2, color='r')\n",
    "plt.xlabel(\"Class id\")\n",
    "plt.ylabel(\"Number of images\")\n",
    "plt.xticks(np.arange(10))\n",
    "plt.yticks(np.arange(0, 5500, 500))"
   ]
  },
  {
   "cell_type": "code",
   "execution_count": null,
   "metadata": {},
   "outputs": [],
   "source": [
    "seed_images(X)"
   ]
  },
  {
   "cell_type": "code",
   "execution_count": null,
   "metadata": {},
   "outputs": [],
   "source": [
    "seed_images(X_test)"
   ]
  },
  {
   "cell_type": "code",
   "execution_count": null,
   "metadata": {},
   "outputs": [],
   "source": [
    "fig = plt.figure(figsize=(2, 2))\n",
    "img = np.reshape(X_test[6], (28, 28))\n",
    "plt.imshow(img)"
   ]
  },
  {
   "cell_type": "code",
   "execution_count": null,
   "metadata": {},
   "outputs": [],
   "source": [
    "IMG = np.asarray(np.reshape(img, (28, 28)) * 255, dtype=np.uint8)\n",
    "img_pil = Image.fromarray(IMG)\n",
    "img_adv = ImageEnhance.Brightness(img_pil).enhance(1.5)\n",
    "plt.figure()\n",
    "plt.imshow(img_adv)"
   ]
  },
  {
   "cell_type": "code",
   "execution_count": null,
   "metadata": {},
   "outputs": [],
   "source": [
    "IMG = np.asarray(np.reshape(img, (28, 28)) * 255, dtype=np.uint8)\n",
    "img_pil = Image.fromarray(IMG)\n",
    "img_adv = ImageEnhance.Contrast(img_pil).enhance(2.0)\n",
    "plt.figure()\n",
    "plt.imshow(img_adv)"
   ]
  },
  {
   "cell_type": "code",
   "execution_count": null,
   "metadata": {},
   "outputs": [],
   "source": [
    "IMG = np.asarray(np.reshape(img, (28, 28)) * 255, dtype=np.uint8)\n",
    "img_pil = Image.fromarray(IMG)\n",
    "img_adv = ImageEnhance.Brightness(img_pil).enhance(0.2)\n",
    "plt.figure()\n",
    "plt.imshow(img_adv)"
   ]
  },
  {
   "cell_type": "code",
   "execution_count": null,
   "metadata": {},
   "outputs": [],
   "source": [
    "# Training profile\n",
    "_mean = np.mean(X, axis=(0))\n",
    "_std = np.std(X, axis=(0))\n",
    "plt.hist(_mean, bins=50)"
   ]
  },
  {
   "cell_type": "code",
   "execution_count": null,
   "metadata": {},
   "outputs": [],
   "source": [
    "# Validation profile\n",
    "_mean = np.mean(X_test, axis=(0))\n",
    "_std = np.std(X_test, axis=(0))\n",
    "plt.figure()\n",
    "plt.hist(_mean, bins=50)"
   ]
  },
  {
   "cell_type": "code",
   "execution_count": null,
   "metadata": {},
   "outputs": [],
   "source": [
    "def rand_shift(X):\n",
    "    datagen = keras.preprocessing.image.ImageDataGenerator(\n",
    "                                            rotation_range=0,\n",
    "                                            width_shift_range=3./28,\n",
    "                                            height_shift_range=3./28,\n",
    "                                            horizontal_flip=True,\n",
    "                                            vertical_flip=False)\n",
    "    datagen.fit(X, augment=True)\n",
    "\n",
    "    for X_transform in datagen.flow(X, shuffle=False):\n",
    "        return X_transform"
   ]
  },
  {
   "cell_type": "code",
   "execution_count": null,
   "metadata": {},
   "outputs": [],
   "source": [
    "X_sample = X[np.random.choice(np.shape(X)[0], 32)]\n",
    "X_sample = np.reshape(X_sample, [-1, 28, 28, 1])\n",
    "X_sample_transformed = rand_shift(X_sample)\n"
   ]
  },
  {
   "cell_type": "code",
   "execution_count": null,
   "metadata": {},
   "outputs": [],
   "source": [
    "plot_images(X_sample)"
   ]
  },
  {
   "cell_type": "code",
   "execution_count": null,
   "metadata": {},
   "outputs": [],
   "source": [
    "plot_images(X_sample_transformed)"
   ]
  },
  {
   "cell_type": "code",
   "execution_count": null,
   "metadata": {},
   "outputs": [],
   "source": []
  }
 ],
 "metadata": {
  "kernelspec": {
   "display_name": "Python 3",
   "language": "python",
   "name": "python3"
  },
  "language_info": {
   "codemirror_mode": {
    "name": "ipython",
    "version": 3
   },
   "file_extension": ".py",
   "mimetype": "text/x-python",
   "name": "python",
   "nbconvert_exporter": "python",
   "pygments_lexer": "ipython3",
   "version": "3.6.7"
  }
 },
 "nbformat": 4,
 "nbformat_minor": 2
}
